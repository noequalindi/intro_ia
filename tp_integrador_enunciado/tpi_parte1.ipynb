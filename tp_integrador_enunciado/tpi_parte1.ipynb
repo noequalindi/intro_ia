{
  "cells": [
    {
      "attachments": {},
      "cell_type": "markdown",
      "id": "07289bb0",
      "metadata": {},
      "source": [
        "# Trabajo integrador - Parte 1\n",
        "## Python y Numpy\n",
        "\n",
        "**Nombre**:"
      ]
    },
    {
      "cell_type": "code",
      "execution_count": 1,
      "id": "aaf94e0a",
      "metadata": {
        "id": "aaf94e0a"
      },
      "outputs": [],
      "source": [
        "import numpy as np"
      ]
    },
    {
      "attachments": {},
      "cell_type": "markdown",
      "id": "0ffe9554",
      "metadata": {},
      "source": [
        "## Ejercicio 1\n",
        "\n",
        "Dada una matriz en formato *numpy array*, donde cada fila de la matriz representa un vector matemático, se requiere computar las normas $l_0$, $l_1$, $l_2$, $l_{\\infty}$, según la siguientes definiciones:\n",
        "\n",
        "\\begin{equation}\n",
        "    ||\\mathbf{x}||^{p} = \\bigg(\\sum_{j=1}^{n}{|x_i|^p}\\bigg)^{\\frac{1}{p}}\n",
        "\\end{equation}\n",
        "\n",
        "con los casos especiales para $p=0$ y $p=\\infty$ siendo:\n",
        "\n",
        "\\begin{equation}\n",
        "    \\begin{array}{rcl}\n",
        "        ||\\mathbf{x}||_0 & = & \\bigg(\\sum_{j=1 \\wedge x_j != 0}{|x_i|}\\bigg)\\\\\n",
        "        ||\\mathbf{x}||_{\\infty} & = & \\max_{i}{|x_i|}\\\\\n",
        "    \\end{array}\n",
        "\\end{equation}"
      ]
    },
    {
      "cell_type": "code",
      "execution_count": 2,
      "id": "0bdb0ee3",
      "metadata": {},
      "outputs": [
        {
          "name": "stdout",
          "output_type": "stream",
          "text": [
            "Norma l0: [2 2 2]\n",
            "Norma l1: [3 4 6]\n",
            "Norma l2: [2.23606798 3.16227766 4.47213595]\n",
            "Norma linfinito: [2 3 4]\n"
          ]
        }
      ],
      "source": [
        "def calcular_normas(matriz):\n",
        "    # Norma l0\n",
        "    norma_l0 = np.sum(matriz != 0, axis=1)\n",
        "\n",
        "    # Norma l1\n",
        "    norma_l1 = np.sum(np.abs(matriz), axis=1)\n",
        "\n",
        "    # Norma l2\n",
        "    norma_l2 = np.linalg.norm(matriz, axis=1)\n",
        "\n",
        "    # Norma linfinito\n",
        "    norma_inf = np.max(np.abs(matriz), axis=1)\n",
        "\n",
        "    return norma_l0, norma_l1, norma_l2, norma_inf\n",
        "\n",
        "# Ejemplo de uso\n",
        "matriz_ejemplo = np.array([[1, 2, 0],\n",
        "                           [0, 3, -1],\n",
        "                           [4, 0, 2]])\n",
        "\n",
        "norma_l0, norma_l1, norma_l2, norma_inf = calcular_normas(matriz_ejemplo)\n",
        "\n",
        "print(\"Norma l0:\", norma_l0)\n",
        "print(\"Norma l1:\", norma_l1)\n",
        "print(\"Norma l2:\", norma_l2)\n",
        "print(\"Norma linfinito:\", norma_inf)"
      ]
    },
    {
      "attachments": {},
      "cell_type": "markdown",
      "id": "dd66d862",
      "metadata": {},
      "source": [
        "## Ejercicio 2\n",
        "\n",
        "En clasificación contamos con dos arreglos, la “verdad” y la “predicción”. Cada elemento de los arreglos pueden tomar dos valores, “True” (representado por 1) y “False” (representado por 0). Entonces podemos definir 4 variables:\n",
        "\n",
        "* True Positive (TP): El valor verdadero es 1 y el valor predicho es 1\n",
        "* True Negative (TN): El valor verdadero es 0 y el valor predicho es 0\n",
        "* False Positive (FP): El valor verdadero es 0 y el valor predicho es 1\n",
        "* False Negative (FN): El valor verdadero es 1 y el valor predicho es 0\n",
        "\n",
        "A partir de esto definimos:\n",
        "\n",
        "* Precision = TP / (TP + FP)\n",
        "* Recall = TP / (TP + FN)\n",
        "* Accuracy = (TP + TN) / (TP + TN + FP + FN)\n",
        " \n",
        "Calcular las 3 métricas con Numpy y operaciones vectorizadas."
      ]
    },
    {
      "cell_type": "code",
      "execution_count": 3,
      "id": "794dcd58",
      "metadata": {},
      "outputs": [],
      "source": [
        "truth = np.array([1,1,0,1,1,1,0,0,0,1])\n",
        "prediction = np.array([1,1,1,1,0,0,1,1,0,0])"
      ]
    },
    {
      "cell_type": "code",
      "execution_count": 5,
      "id": "26f7a7ec",
      "metadata": {},
      "outputs": [
        {
          "name": "stdout",
          "output_type": "stream",
          "text": [
            "Precision: 0.5\n",
            "Recall: 0.5\n",
            "Accuracy: 0.4\n"
          ]
        }
      ],
      "source": [
        "# Definir una función para calcular métricas\n",
        "def calcular_metricas(truth, prediction):\n",
        "    # Calcular True Positive (TP)\n",
        "    TP = np.sum(np.logical_and(truth == 1, prediction == 1))\n",
        "\n",
        "    # Calcular True Negative (TN)\n",
        "    TN = np.sum(np.logical_and(truth == 0, prediction == 0))\n",
        "\n",
        "    # Calcular False Positive (FP)\n",
        "    FP = np.sum(np.logical_and(truth == 0, prediction == 1))\n",
        "\n",
        "    # Calcular False Negative (FN)\n",
        "    FN = np.sum(np.logical_and(truth == 1, prediction == 0))\n",
        "\n",
        "    # Calcular Precision (TP / (TP + FP))\n",
        "    precision = TP / (TP + FP) if (TP + FP) > 0 else 0\n",
        "\n",
        "    # Calcular Recall (TP / (TP + FN))\n",
        "    recall = TP / (TP + FN) if (TP + FN) > 0 else 0\n",
        "\n",
        "    # Calcular Accuracy ((TP + TN) / (TP + TN + FP + FN))\n",
        "    accuracy = (TP + TN) / (TP + TN + FP + FN) if (TP + TN + FP + FN) > 0 else 0\n",
        "\n",
        "    # Devolver las métricas calculadas\n",
        "    return precision, recall, accuracy\n",
        "\n",
        "# Arrays proporcionados\n",
        "truth = np.array([1, 1, 0, 1, 1, 1, 0, 0, 0, 1])\n",
        "prediction = np.array([1, 1, 1, 1, 0, 0, 1, 1, 0, 0])\n",
        "\n",
        "# Llamar a la función para calcular las métricas\n",
        "precision, recall, accuracy = calcular_metricas(truth, prediction)\n",
        "\n",
        "# Imprimir las métricas calculadas\n",
        "print(\"Precision:\", precision)\n",
        "print(\"Recall:\", recall)\n",
        "print(\"Accuracy:\", accuracy)\n",
        "\n"
      ]
    },
    {
      "attachments": {},
      "cell_type": "markdown",
      "id": "d0ac6f6f",
      "metadata": {},
      "source": [
        "## Ejercicio 3\n",
        "\n",
        "Crear una función que separe los datos en train-validation-test. Debe recibir de parametros:\n",
        "\n",
        "- X: Array o Dataframe que contiene los datos de entrada del sistema.\n",
        "- y: Array o Dataframe que contiene la(s) variable(s) target del problema.\n",
        "- train_percentage: _float_ el porcentaje de training.\n",
        "- test_percentage: _float_ el porcentaje de testing.\n",
        "- val_percentage: _float_ el porcentaje de validación.\n",
        "- shuffle: _bool_ determina si el split debe hacerse de manera random o no.\n",
        "\n",
        "Hints: \n",
        "\n",
        "* Usar Indexing y slicing\n",
        "* Usar np.random.[...]"
      ]
    },
    {
      "cell_type": "code",
      "execution_count": 8,
      "id": "ca85fc66",
      "metadata": {},
      "outputs": [],
      "source": [
        "def split(X_input, Y_input, train_size=0.7, val_size=0.15, test_size=0.15, random_state=42, shuffle=True):\n",
        "    # Obtener el número total de muestras\n",
        "    total_samples = X_input.shape[0] if isinstance(X_input, np.ndarray) else X_input.shape[0]\n",
        "\n",
        "    # Calcular el tamaño de cada conjunto en base a los porcentajes proporcionados\n",
        "    train_size = int(train_size * total_samples)\n",
        "    val_size = int(val_size * total_samples)\n",
        "    test_size = int(test_size * total_samples)\n",
        "\n",
        "    # Verificar que los porcentajes suman 1\n",
        "    assert train_size + val_size + test_size == total_samples, \"Los porcentajes de división no suman 1.\"\n",
        "\n",
        "    # Configurar la semilla aleatoria para reproducibilidad\n",
        "    np.random.seed(random_state)\n",
        "\n",
        "    # Crear índices para las muestras\n",
        "    indices = np.arange(total_samples)\n",
        "\n",
        "    # Barajar los índices si se especifica\n",
        "    if shuffle:\n",
        "        np.random.shuffle(indices)\n",
        "\n",
        "    # Dividir los índices en conjuntos de entrenamiento, validación y prueba\n",
        "    train_indices = indices[:train_size]\n",
        "    val_indices = indices[train_size:(train_size + val_size)]\n",
        "    test_indices = indices[(train_size + val_size):]\n",
        "\n",
        "    # Indexar los datos originales para obtener los conjuntos divididos\n",
        "    X_train, Y_train = X_input[train_indices], Y_input[train_indices]\n",
        "    X_val, Y_val = X_input[val_indices], Y_input[val_indices]\n",
        "    X_test, Y_test = X_input[test_indices], Y_input[test_indices]\n",
        "\n",
        "    return X_train, Y_train, X_val, Y_val, X_test, Y_test\n",
        "\n",
        "# Ejemplo de uso\n",
        "# Suponiendo que tenemos los arrays X_data y Y_data\n",
        "X_data = np.random.rand(100, 5)  # Datos de entrada de ejemplo\n",
        "Y_data = np.random.randint(0, 2, size=(100, 1))  # Etiquetas de ejemplo (0 o 1)\n",
        "\n",
        "# Llamar a la función split\n",
        "X_train, Y_train, X_val, Y_val, X_test, Y_test = split(X_data, Y_data, train_size=0.7, val_size=0.15, test_size=0.15, shuffle=True)\n",
        "\n",
        "# Ahora X_train, Y_train contienen los datos de entrenamiento, X_val, Y_val contienen los datos de validación y X_test, Y_test contienen los datos de prueba"
      ]
    }
  ],
  "metadata": {
    "colab": {
      "collapsed_sections": [],
      "name": "Practica_clase_3.ipynb",
      "provenance": []
    },
    "kernelspec": {
      "display_name": "Python 3.10.7 64-bit",
      "language": "python",
      "name": "python3"
    },
    "language_info": {
      "codemirror_mode": {
        "name": "ipython",
        "version": 3
      },
      "file_extension": ".py",
      "mimetype": "text/x-python",
      "name": "python",
      "nbconvert_exporter": "python",
      "pygments_lexer": "ipython3",
      "version": "3.9.6"
    },
    "vscode": {
      "interpreter": {
        "hash": "b5c22da4a52024410f64f9c5a5e2b4ffeeb944a5ed00e8825a42174cdab30315"
      }
    }
  },
  "nbformat": 4,
  "nbformat_minor": 5
}
